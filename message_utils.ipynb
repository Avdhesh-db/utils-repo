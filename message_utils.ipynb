{
  "cells": [
    {
      "cell_type": "markdown",
      "metadata": {},
      "source": [
        "# Message Utils - Reusable Functions\n",
        "\n",
        "This notebook contains utility functions that can be imported by other notebooks in Databricks workflows.\n",
        "\n",
        "**Repository:** utils-repo  \n",
        "**Purpose:** Shared utility functions for messaging\n"
      ]
    },
    {
      "cell_type": "code",
      "execution_count": null,
      "metadata": {},
      "outputs": [],
      "source": [
        "def get_greeting_message(name=\"World\"):\n",
        "    \"\"\"\n",
        "    Returns a simple greeting message.\n",
        "    \n",
        "    Args:\n",
        "        name (str): The name to include in the greeting. Defaults to \"World\".\n",
        "    \n",
        "    Returns:\n",
        "        str: A formatted greeting message.\n",
        "    \"\"\"\n",
        "    return f\"Hello, {name}! This message comes from the utils-repo in Databricks.\"\n",
        "\n",
        "\n",
        "def say_goodbye(name=\"Friend\"):\n",
        "    \"\"\"\n",
        "    Returns a simple goodbye message.\n",
        "    \n",
        "    Args:\n",
        "        name (str): The name to include in the goodbye. Defaults to \"Friend\".\n",
        "    \n",
        "    Returns:\n",
        "        str: A formatted goodbye message.\n",
        "    \"\"\"\n",
        "    return f\"Goodbye, {name}! Databricks workflow completed successfully.\"\n"
      ]
    },
    {
      "cell_type": "code",
      "execution_count": null,
      "metadata": {},
      "outputs": [],
      "source": [
        "# Test the functions (optional - can be removed in production)\n",
        "print(\"Testing utility functions:\")\n",
        "print(get_greeting_message())\n",
        "print(get_greeting_message(\"Data Engineer\"))\n",
        "print(say_goodbye(\"Test User\"))\n"
      ]
    }
  ],
  "metadata": {
    "language_info": {
      "name": "python"
    }
  },
  "nbformat": 4,
  "nbformat_minor": 2
}
